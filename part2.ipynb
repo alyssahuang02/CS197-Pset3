{
 "cells": [
  {
   "cell_type": "code",
   "execution_count": 12,
   "metadata": {},
   "outputs": [],
   "source": [
    "import torch\n",
    "from torchvision.models import resnet18, ResNet18_Weights\n",
    "\n",
    "# Exercise 1\n",
    "net = resnet18(weights=ResNet18_Weights.DEFAULT)\n",
    "input = torch.rand(1, 3, 64, 64)\n",
    "target = torch.rand(1, 1000)\n",
    "optimizer = torch.optim.SGD(net.parameters(), lr=0.001, momentum=0.9)\n",
    "criterion = torch.nn.CrossEntropyLoss()\n",
    "orig = net.conv1.weight.clone()[0, 0, 0, 0]\n",
    "weight = net.conv1.weight[0, 0, 0, 0]"
   ]
  },
  {
   "cell_type": "code",
   "execution_count": 13,
   "metadata": {},
   "outputs": [
    {
     "name": "stdout",
     "output_type": "stream",
     "text": [
      "Weight: True, Gradient: False\n"
     ]
    }
   ],
   "source": [
    "# 1\n",
    "print(f\"Weight: {weight == orig}, Gradient: {net.conv1.weight.grad is not None}\")"
   ]
  },
  {
   "cell_type": "code",
   "execution_count": 14,
   "metadata": {},
   "outputs": [
    {
     "name": "stdout",
     "output_type": "stream",
     "text": [
      "Weight: True, Gradient: False\n"
     ]
    }
   ],
   "source": [
    "# 2\n",
    "optimizer.zero_grad() # zero the gradient buffers\n",
    "print(f\"Weight: {weight == orig}, Gradient: {net.conv1.weight.grad is not None}\")"
   ]
  },
  {
   "cell_type": "code",
   "execution_count": 15,
   "metadata": {},
   "outputs": [
    {
     "name": "stdout",
     "output_type": "stream",
     "text": [
      "Weight: True, Gradient: False\n"
     ]
    }
   ],
   "source": [
    "# 3\n",
    "output = net(input)\n",
    "loss = criterion(output, target)\n",
    "print(f\"Weight: {weight == orig}, Gradient: {net.conv1.weight.grad is not None}\")"
   ]
  },
  {
   "cell_type": "code",
   "execution_count": 16,
   "metadata": {},
   "outputs": [
    {
     "name": "stdout",
     "output_type": "stream",
     "text": [
      "Weight: True, Gradient: True\n"
     ]
    }
   ],
   "source": [
    "# 4\n",
    "loss.backward()\n",
    "print(f\"Weight: {weight == orig}, Gradient: {net.conv1.weight.grad is not None}\")"
   ]
  },
  {
   "cell_type": "code",
   "execution_count": 17,
   "metadata": {},
   "outputs": [
    {
     "name": "stdout",
     "output_type": "stream",
     "text": [
      "Weight: False, Gradient: True\n"
     ]
    }
   ],
   "source": [
    "# 5\n",
    "optimizer.step() # Does the update\n",
    "print(f\"Weight: {weight == orig}, Gradient: {net.conv1.weight.grad is not None}\")"
   ]
  },
  {
   "cell_type": "code",
   "execution_count": 1,
   "metadata": {},
   "outputs": [],
   "source": [
    "import torch.nn as nn\n",
    "import torch.nn.functional as F\n",
    "\n",
    "# Exercise 2\n",
    "class Net(nn.Module):\n",
    "    def __init__(self):\n",
    "        super(Net, self).__init__()\n",
    "        linear1 = nn.Linear(32*32, 100)\n",
    "        linear2 = nn.Linear(100, 10)\n",
    "    def forward(self, x):\n",
    "        x = torch.flatten(x, 1)\n",
    "        x = self.linear1(x)\n",
    "        x = F.relu(x)\n",
    "        x = self.linear2(x)\n",
    "        return x"
   ]
  },
  {
   "cell_type": "code",
   "execution_count": null,
   "metadata": {},
   "outputs": [],
   "source": [
    "# Exercise 6\n",
    "class Net(nn.Module):\n",
    "    def __init__(self):\n",
    "        super(Net, self).__init__()\n",
    "        conv1 =  nn.Conv2d(32*32, )\n",
    "        linear1 = nn.Linear()\n",
    "        conv2 = nn.Conv2d()\n",
    "        linear2 = nn.Linear()\n",
    "    def forward(self, x):\n",
    "        x = torch.flatten(x, 1)\n",
    "        x = self.linear1(x)\n",
    "        x = F.relu(x)\n",
    "        x = self.linear2(x)\n",
    "        return x"
   ]
  }
 ],
 "metadata": {
  "kernelspec": {
   "display_name": "Python 3.9.13 ('part1')",
   "language": "python",
   "name": "python3"
  },
  "language_info": {
   "codemirror_mode": {
    "name": "ipython",
    "version": 3
   },
   "file_extension": ".py",
   "mimetype": "text/x-python",
   "name": "python",
   "nbconvert_exporter": "python",
   "pygments_lexer": "ipython3",
   "version": "3.9.13"
  },
  "orig_nbformat": 4,
  "vscode": {
   "interpreter": {
    "hash": "8fd317551f0409889193be11a5f8c33f89d0afc458f13ee5220cf4632e46f3f9"
   }
  }
 },
 "nbformat": 4,
 "nbformat_minor": 2
}
